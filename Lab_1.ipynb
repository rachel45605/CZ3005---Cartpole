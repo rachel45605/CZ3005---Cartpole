{
  "cells": [
    {
      "cell_type": "markdown",
      "metadata": {
        "id": "ZauhjPSfX7pI"
      },
      "source": [
        "# Tutorial and Sample Code for Balancing a Pole on a Cart"
      ]
    },
    {
      "cell_type": "markdown",
      "metadata": {
        "id": "UBiYOoesYMvr"
      },
      "source": [
        "## Installing dependencies:"
      ]
    },
    {
      "cell_type": "code",
      "execution_count": null,
      "metadata": {
        "colab": {
          "base_uri": "https://localhost:8080/"
        },
        "id": "PbgnVwZmX5uW",
        "outputId": "94d0d27e-bea7-4fba-b5d4-673bd6994004"
      },
      "outputs": [
        {
          "output_type": "stream",
          "name": "stdout",
          "text": [
            "Looking in indexes: https://pypi.org/simple, https://us-python.pkg.dev/colab-wheels/public/simple/\n",
            "Requirement already satisfied: gym[classic_control] in /usr/local/lib/python3.8/dist-packages (0.25.2)\n",
            "Requirement already satisfied: gym-notices>=0.0.4 in /usr/local/lib/python3.8/dist-packages (from gym[classic_control]) (0.0.8)\n",
            "Requirement already satisfied: cloudpickle>=1.2.0 in /usr/local/lib/python3.8/dist-packages (from gym[classic_control]) (2.2.1)\n",
            "Requirement already satisfied: importlib-metadata>=4.8.0 in /usr/local/lib/python3.8/dist-packages (from gym[classic_control]) (6.0.0)\n",
            "Requirement already satisfied: numpy>=1.18.0 in /usr/local/lib/python3.8/dist-packages (from gym[classic_control]) (1.22.4)\n",
            "Collecting pygame==2.1.0\n",
            "  Downloading pygame-2.1.0-cp38-cp38-manylinux_2_17_x86_64.manylinux2014_x86_64.whl (18.3 MB)\n",
            "\u001b[2K     \u001b[90m━━━━━━━━━━━━━━━━━━━━━━━━━━━━━━━━━━━━━━━━\u001b[0m \u001b[32m18.3/18.3 MB\u001b[0m \u001b[31m48.4 MB/s\u001b[0m eta \u001b[36m0:00:00\u001b[0m\n",
            "\u001b[?25hRequirement already satisfied: zipp>=0.5 in /usr/local/lib/python3.8/dist-packages (from importlib-metadata>=4.8.0->gym[classic_control]) (3.15.0)\n",
            "Installing collected packages: pygame\n",
            "Successfully installed pygame-2.1.0\n",
            "Looking in indexes: https://pypi.org/simple, https://us-python.pkg.dev/colab-wheels/public/simple/\n",
            "Requirement already satisfied: setuptools in /usr/local/lib/python3.8/dist-packages (57.4.0)\n",
            "Collecting setuptools\n",
            "  Downloading setuptools-67.4.0-py3-none-any.whl (1.1 MB)\n",
            "\u001b[2K     \u001b[90m━━━━━━━━━━━━━━━━━━━━━━━━━━━━━━━━━━━━━━━━\u001b[0m \u001b[32m1.1/1.1 MB\u001b[0m \u001b[31m44.2 MB/s\u001b[0m eta \u001b[36m0:00:00\u001b[0m\n",
            "\u001b[?25hInstalling collected packages: setuptools\n",
            "  Attempting uninstall: setuptools\n",
            "    Found existing installation: setuptools 57.4.0\n",
            "    Uninstalling setuptools-57.4.0:\n",
            "      Successfully uninstalled setuptools-57.4.0\n",
            "\u001b[31mERROR: pip's dependency resolver does not currently take into account all the packages that are installed. This behaviour is the source of the following dependency conflicts.\n",
            "ipython 7.9.0 requires jedi>=0.10, which is not installed.\n",
            "cvxpy 1.2.3 requires setuptools<=64.0.2, but you have setuptools 67.4.0 which is incompatible.\u001b[0m\u001b[31m\n",
            "\u001b[0mSuccessfully installed setuptools-67.4.0\n"
          ]
        }
      ],
      "source": [
        "!apt-get install -y xvfb python-opengl > /dev/null 2>&1\n",
        "!pip install gym pyvirtualdisplay > /dev/null 2>&1\n",
        "!pip install gym pyvirtualdisplay > /dev/null 2>&1\n",
        "!apt-get install -y xvfb python-opengl ffmpeg > /dev/null 2>&1\n",
        "!pip install gym[classic_control]\n",
        "!apt-get update > /dev/null 2>&1\n",
        "!apt-get install cmake > /dev/null 2>&1\n",
        "!pip install --upgrade setuptools 2>&1\n",
        "!pip install ez_setup > /dev/null 2>&1"
      ]
    },
    {
      "cell_type": "markdown",
      "metadata": {
        "id": "RwKbYeTgbaTA"
      },
      "source": [
        "## Importing dependencies and define helper functions"
      ]
    },
    {
      "cell_type": "code",
      "execution_count": null,
      "metadata": {
        "id": "j6KpgCLGYWmj"
      },
      "outputs": [],
      "source": [
        "import gym\n",
        "from gym import logger as gymlogger\n",
        "from gym.wrappers import RecordVideo\n",
        "gymlogger.set_level(40) #error only\n",
        "import tensorflow as tf\n",
        "import numpy as np\n",
        "import random\n",
        "import matplotlib\n",
        "import matplotlib.pyplot as plt\n",
        "%matplotlib inline\n",
        "import math\n",
        "import glob\n",
        "import io\n",
        "import base64\n",
        "from IPython.display import HTML\n",
        "from IPython import display as ipythondisplay\n",
        "\n",
        "def show_video():\n",
        "  mp4list = glob.glob('video/*.mp4')\n",
        "  if len(mp4list) > 0:\n",
        "    mp4 = mp4list[0]\n",
        "    video = io.open(mp4, 'r+b').read()\n",
        "    encoded = base64.b64encode(video)\n",
        "    ipythondisplay.display(HTML(data='''<video alt=\"test\" autoplay \n",
        "                loop controls style=\"height: 400px;\">\n",
        "                <source src=\"data:video/mp4;base64,{0}\" type=\"video/mp4\" />\n",
        "             </video>'''.format(encoded.decode('ascii'))))\n",
        "  else: \n",
        "    print(\"Could not find video\")"
      ]
    },
    {
      "cell_type": "markdown",
      "metadata": {
        "id": "ehbqP9CXbmo7"
      },
      "source": [
        "## Tutorial: Loading CartPole environment"
      ]
    },
    {
      "cell_type": "code",
      "execution_count": null,
      "metadata": {
        "id": "Go12dH4qbwBy"
      },
      "outputs": [],
      "source": [
        "env = gym.make(\"CartPole-v1\")"
      ]
    },
    {
      "cell_type": "markdown",
      "metadata": {
        "id": "9XZ9g3xrcAXE"
      },
      "source": [
        "We can check the action and observation space of this environment. Discrete(2) means that there are two valid discrete actions: 0 & 1."
      ]
    },
    {
      "cell_type": "code",
      "execution_count": null,
      "metadata": {
        "id": "ytxvVmLdcRyw",
        "colab": {
          "base_uri": "https://localhost:8080/"
        },
        "outputId": "708db40a-35ee-4b64-956f-db5c485737cc"
      },
      "outputs": [
        {
          "output_type": "stream",
          "name": "stdout",
          "text": [
            "Discrete(2)\n"
          ]
        }
      ],
      "source": [
        "print(env.action_space)"
      ]
    },
    {
      "cell_type": "markdown",
      "metadata": {
        "id": "pVXGWi_Ncfg-"
      },
      "source": [
        "The observation space is given below. The first two arrays define the min and max values of the 4 observed values, corresponding to cart position, velocity and pole angle, angular velocity."
      ]
    },
    {
      "cell_type": "code",
      "execution_count": null,
      "metadata": {
        "id": "DyqHr9I5cdkX",
        "colab": {
          "base_uri": "https://localhost:8080/"
        },
        "outputId": "4cac6dca-a05a-410a-d748-031cb99749aa"
      },
      "outputs": [
        {
          "output_type": "stream",
          "name": "stdout",
          "text": [
            "Box([-4.8000002e+00 -3.4028235e+38 -4.1887903e-01 -3.4028235e+38], [4.8000002e+00 3.4028235e+38 4.1887903e-01 3.4028235e+38], (4,), float32)\n"
          ]
        }
      ],
      "source": [
        "print(env.observation_space)"
      ]
    },
    {
      "cell_type": "markdown",
      "metadata": {
        "id": "HFOdaU2Gdyg0"
      },
      "source": [
        "We call each round of the pole-balancing game an \"episode\". At the start of each episode, make sure the environment is reset, which chooses a random initial state, e.g., pole slightly tilted to the right. This initialization can be achieved by the code below, which returns the observation of the initial state."
      ]
    },
    {
      "cell_type": "code",
      "execution_count": null,
      "metadata": {
        "id": "VMr6qAqxdOsm",
        "colab": {
          "base_uri": "https://localhost:8080/"
        },
        "outputId": "c7311c6b-6531-4229-c6ff-174733538be5"
      },
      "outputs": [
        {
          "output_type": "stream",
          "name": "stdout",
          "text": [
            "Initial observations: [0.00191569 0.02194299 0.0346483  0.01780338]\n"
          ]
        }
      ],
      "source": [
        "observation = env.reset()\n",
        "print(\"Initial observations:\", observation)"
      ]
    },
    {
      "cell_type": "markdown",
      "metadata": {
        "id": "qnG2QdfbeZrI"
      },
      "source": [
        "For the CartPole environment, there are two possible actions: 0 for pushing to the left and 1 for pushing to the right. For example, we can push the cart to the left using code below, which returns the new observation, the current reward, an indicator of whether the game ends, and some additional information (not used in this project). For CartPole, the game ends when the pole is significantly tilted or you manage to balance the pole for 500 steps. You get exactly 1 reward for each step before the game ends (i.e., max cumulative reward is 500)."
      ]
    },
    {
      "cell_type": "code",
      "execution_count": null,
      "metadata": {
        "id": "MmfMDvyYdWGk",
        "colab": {
          "base_uri": "https://localhost:8080/"
        },
        "outputId": "efe57aea-9557-47e1-dc5d-f5c5ee00c725"
      },
      "outputs": [
        {
          "output_type": "stream",
          "name": "stdout",
          "text": [
            "New observations after choosing action 0: [ 0.00235455 -0.17365828  0.03500437  0.32121375]\n",
            "Reward for this step: 1.0\n",
            "Is this round done? False\n"
          ]
        }
      ],
      "source": [
        "observation, reward, done, info = env.step(0)\n",
        "print(\"New observations after choosing action 0:\", observation)\n",
        "print(\"Reward for this step:\", reward)\n",
        "print(\"Is this round done?\", done)"
      ]
    },
    {
      "cell_type": "markdown",
      "metadata": {
        "id": "tj0zCh59fhBb"
      },
      "source": [
        "Now we can play a full round of the game using a naive strategy (always choosing action 0), and show the cumulative reward in the round. Note that reward returned by env.step(*) corresponds to the reward for current step. So we have to accumulate the reward for each step. Clearly, the naive strategy performs poorly by surviving only a dozen of steps."
      ]
    },
    {
      "cell_type": "code",
      "execution_count": null,
      "metadata": {
        "id": "AVucQVRwf6Jm",
        "colab": {
          "base_uri": "https://localhost:8080/"
        },
        "outputId": "c44a1ed1-19cf-42ec-d94d-e974ad8669d3"
      },
      "outputs": [
        {
          "output_type": "stream",
          "name": "stdout",
          "text": [
            "Cumulative reward for this round: 10.0\n"
          ]
        }
      ],
      "source": [
        "observation = env.reset()\n",
        "cumulative_reward = 0\n",
        "done = False\n",
        "while not done:\n",
        "    observation, reward, done, info = env.step(0)\n",
        "    cumulative_reward += reward\n",
        "print(\"Cumulative reward for this round:\", cumulative_reward)"
      ]
    },
    {
      "cell_type": "markdown",
      "metadata": {
        "id": "2oIzK9SzhlWN"
      },
      "source": [
        "## Task 1: Development of an RL agent"
      ]
    },
    {
      "cell_type": "markdown",
      "source": [
        "Whether or not a state satisfies the 'done' condition depends on the values in the observation space. However, since the values of those states are continuous, the Q_table will be infinitely large if we were to consider every possible combination of states. Hence we can convert these values to discrete representations by separating them into brackets, where each bracket represents a range of continuous values. This is done in the discretizer function below.\n"
      ],
      "metadata": {
        "id": "Iql23-BtPbZG"
      }
    },
    {
      "cell_type": "code",
      "execution_count": null,
      "metadata": {
        "id": "9P-Vydo8AVY3"
      },
      "outputs": [],
      "source": [
        "from sklearn.preprocessing import KBinsDiscretizer\n",
        "from typing import Tuple\n",
        "n_bins = ( 6 , 12 )\n",
        "lower_bounds = [ env.observation_space.low[2], -math.radians(50) ]\n",
        "upper_bounds = [ env.observation_space.high[2], math.radians(50) ]\n",
        "\n",
        "def discretizer( _ , __ , angle, pole_velocity ) -> Tuple[int,...]:\n",
        "    \"\"\"Convert continuous state into a discrete state\"\"\"\n",
        "    est = KBinsDiscretizer(n_bins=n_bins, encode='ordinal', strategy='uniform')\n",
        "    est.fit([lower_bounds, upper_bounds ])\n",
        "    return tuple(map(int,est.transform([[angle, pole_velocity]])[0]))"
      ]
    },
    {
      "cell_type": "markdown",
      "source": [
        "n_bins contains all possible combinations of states and env.action_space.n represents the size of the action space, which is 2. The Q_table is created below by combining n_bins with env.action_space.n. Hence, for each possible combination of states there are 2 possible actions. This results in our 3D Q_table that has the dimensions 6 by 12 by 2.\n"
      ],
      "metadata": {
        "id": "tjhlsqvsPQrH"
      }
    },
    {
      "cell_type": "code",
      "execution_count": null,
      "metadata": {
        "id": "J4inwCJiAgLC",
        "colab": {
          "base_uri": "https://localhost:8080/"
        },
        "outputId": "08c6f9f9-0547-415b-f3c4-4bd6dea65aea"
      },
      "outputs": [
        {
          "output_type": "execute_result",
          "data": {
            "text/plain": [
              "(6, 12, 2)"
            ]
          },
          "metadata": {},
          "execution_count": 10
        }
      ],
      "source": [
        "Q_table = np.zeros(n_bins + (env.action_space.n,))\n",
        "Q_table.shape\n",
        "#print(Q_table)"
      ]
    },
    {
      "cell_type": "markdown",
      "source": [
        "The policy function below determines the action that the agent will take based on the current state of the environment. It takes the current state of the environment as argument and returns the action with the highest Q value in the Q_table. The new_Q_value function calculates and returns a new Q value based on the rewards received from the environment and the new state reached after each action. "
      ],
      "metadata": {
        "id": "8_AzW_o8Pgd2"
      }
    },
    {
      "cell_type": "code",
      "execution_count": null,
      "metadata": {
        "id": "3YXgxZkfAh9a"
      },
      "outputs": [],
      "source": [
        "def policy( state : tuple ):\n",
        "    \"\"\"Choosing action based on epsilon-greedy policy\"\"\"\n",
        "    return np.argmax(Q_table[state])"
      ]
    },
    {
      "cell_type": "code",
      "execution_count": null,
      "metadata": {
        "id": "GMjsD2r3AiDN"
      },
      "outputs": [],
      "source": [
        "def new_Q_value( reward : float ,  new_state : tuple , discount_factor=1 ) -> float:\n",
        "    \"\"\"Temperal diffrence for updating Q-value of state-action pair\"\"\"\n",
        "    future_optimal_value = np.max(Q_table[new_state])\n",
        "    learned_value = reward + discount_factor * future_optimal_value\n",
        "    return learned_value"
      ]
    },
    {
      "cell_type": "markdown",
      "source": [
        "to add text for the learning rate and exploration rate"
      ],
      "metadata": {
        "id": "sg4N37wQbjGG"
      }
    },
    {
      "cell_type": "code",
      "execution_count": null,
      "metadata": {
        "id": "IWnaKEPVAiFp"
      },
      "outputs": [],
      "source": [
        "# Adaptive learning of Learning Rate\n",
        "def learning_rate(n : int , min_rate=0.01 ) -> float  :\n",
        "    \"\"\"Decaying learning rate\"\"\"\n",
        "    return max(min_rate, min(1.0, 1.0 - math.log10((n + 1) / 25)))"
      ]
    },
    {
      "cell_type": "code",
      "execution_count": null,
      "metadata": {
        "id": "M0MjAttRAiIO"
      },
      "outputs": [],
      "source": [
        "def exploration_rate(n : int, min_rate= 0.1 ) -> float :\n",
        "    \"\"\"Decaying exploration rate\"\"\"\n",
        "    return max(min_rate, min(1, 1.0 - math.log10((n  + 1) / 25)))"
      ]
    },
    {
      "cell_type": "markdown",
      "source": [
        "In this code, we will train the agent using a Q-learning algorithm to learn the optimal policy for the environment. After each action, the agent checks the value of done. If done is True, the agent breaks out of the while loop and starts a new episode. If done is False, the agent continues to select the next action by passing in its current state to the policy function which then returns the action with highest Q value in the Q_table. It then updates the value in the Q_table with the new Q value calculated by the new_q_value function."
      ],
      "metadata": {
        "id": "alvi0uFxbn1N"
      }
    },
    {
      "cell_type": "code",
      "execution_count": null,
      "metadata": {
        "id": "rrpT5TiLAiK7"
      },
      "outputs": [],
      "source": [
        "#Q_table = np.zeros(n_bins + (env.action_space.n,))\n",
        "n_episodes = 700\n",
        "for e in range(n_episodes):\n",
        "    \n",
        "    # Siscretize state into buckets\n",
        "    current_state, done = discretizer(*env.reset()), False\n",
        "    \n",
        "    while done==False:\n",
        "        \n",
        "        # policy action \n",
        "        action = policy(current_state) # exploit\n",
        "        #print(\"Episode\", e, \"action: \", action)\n",
        "      \n",
        "        \n",
        "        # insert random action\n",
        "        \n",
        "        if np.random.random() < exploration_rate(e) : \n",
        "            action = env.action_space.sample() # explore\n",
        "        \n",
        "         \n",
        "        # increment enviroment\n",
        "        obs, reward, done, _ = env.step(action)\n",
        "        new_state = discretizer(*obs)\n",
        "        \n",
        "        # Update Q-Table\n",
        "        lr = learning_rate(e)\n",
        "        learnt_value = new_Q_value(reward , new_state )\n",
        "        old_value = Q_table[current_state][action]\n",
        "        Q_table[current_state][action] = (1-lr)*old_value + lr*learnt_value\n",
        "        \n",
        "        current_state = new_state"
      ]
    },
    {
      "cell_type": "markdown",
      "metadata": {
        "id": "RAi7KKwNiegR"
      },
      "source": [
        "For Task 1, we can show the observation and chosen action below:"
      ]
    },
    {
      "cell_type": "code",
      "execution_count": null,
      "metadata": {
        "id": "ae2ia-vUiNKJ",
        "colab": {
          "base_uri": "https://localhost:8080/"
        },
        "outputId": "9079c388-2a60-4164-9cba-a212b6f341d0"
      },
      "outputs": [
        {
          "output_type": "stream",
          "name": "stdout",
          "text": [
            "Observation: [ 0.0023013  -0.02815234  0.04515775 -0.04008669]\n",
            "Chosen action: 0\n"
          ]
        }
      ],
      "source": [
        "observation = env.reset()\n",
        "current_state = discretizer(*env.reset())\n",
        "action = policy(current_state)\n",
        "print(\"Observation:\", observation)\n",
        "print(\"Chosen action:\", action)"
      ]
    },
    {
      "cell_type": "markdown",
      "metadata": {
        "id": "-XtIQ0Rti1gm"
      },
      "source": [
        "## Task 2: Demonstrate the effectiveness of the RL agent"
      ]
    },
    {
      "cell_type": "markdown",
      "metadata": {
        "id": "djBEShf0kGI4"
      },
      "source": [
        "For this task, use the agent developed in Task 1 to play the game for 100 episodes (refer to tutorial for how to play a round), record the cumulative reward for each round, and plot the reward for each round. A sample plotting code is given below. Note that you must include code to play for 100 episodes and use the code to obtain round_results for plotting. DO NOT record the round results in advance and paste the results to the notebook."
      ]
    },
    {
      "cell_type": "code",
      "execution_count": null,
      "metadata": {
        "id": "RZrCKywQi6CE",
        "colab": {
          "base_uri": "https://localhost:8080/",
          "height": 295
        },
        "outputId": "533015b0-857d-49f2-fa8a-14dfd95a6a69"
      },
      "outputs": [
        {
          "output_type": "display_data",
          "data": {
            "text/plain": [
              "<Figure size 432x288 with 1 Axes>"
            ],
            "image/png": "[encoded data removed]"
          },
          "metadata": {
            "needs_background": "light"
          }
        }
      ],
      "source": [
        "#episode_results = np.random.randint(150, 250, size=100)\n",
        "\n",
        "#implement loop to show 100 episodes\n",
        "y = [0 for i in range(100)]\n",
        "x = [0 for i in range(100)]\n",
        "for i in range(100):\n",
        "  observation = env.reset()\n",
        "  cumulative_reward = 0\n",
        "  current_state = discretizer(*env.reset())\n",
        "  done = False\n",
        "  while not done:\n",
        "    #print(\"Made it in the loop!\")\n",
        "    #action = theta_omega_policy(observation)\n",
        "    \n",
        "    action = policy(current_state)\n",
        "    obs, reward, done, _ = env.step(action)\n",
        "    new_state = discretizer(*obs)\n",
        "    #lr = learning_rate(e)\n",
        "    #learnt_value = new_Q_value(reward , new_state )\n",
        "    #old_value = Q_table[current_state][action]\n",
        "    #Q_table[current_state][action] = (1-lr)*old_value + lr*learnt_value\n",
        "        \n",
        "    current_state = new_state\n",
        "\n",
        "    #print(action)\n",
        "    #observation, reward, done, info = env.step(action)\n",
        "    cumulative_reward = cumulative_reward + reward\n",
        "  #print(\"Cumulative reward: \", cumulative_reward)\n",
        "  x[i] = i\n",
        "  y[i] = cumulative_reward\n",
        "\n",
        "plt.plot(x, y)\n",
        "plt.title('Cumulative reward for each episode')\n",
        "plt.ylabel('Cumulative reward')\n",
        "plt.xlabel('episode')\n",
        "plt.show()\n",
        "#print(Q_table)"
      ]
    },
    {
      "cell_type": "markdown",
      "metadata": {
        "id": "XndSYH7wlvn7"
      },
      "source": [
        "Print the average reward over the 100 episodes."
      ]
    },
    {
      "cell_type": "code",
      "execution_count": null,
      "metadata": {
        "id": "pOiOp9OYlo5Y",
        "colab": {
          "base_uri": "https://localhost:8080/"
        },
        "outputId": "c1e815c2-c1ed-421a-8f18-63515b77366e"
      },
      "outputs": [
        {
          "output_type": "stream",
          "name": "stdout",
          "text": [
            "Average cumulative reward: 500.0\n",
            "Is my agent good enough? True\n"
          ]
        }
      ],
      "source": [
        "total = 0\n",
        "for i in range(100):\n",
        "  total = total + y[i]\n",
        "\n",
        "\n",
        "print(\"Average cumulative reward:\", total/100)\n",
        "print(\"Is my agent good enough?\", total/100 > 195)"
      ]
    },
    {
      "cell_type": "markdown",
      "metadata": {
        "id": "Yg0DCT38lFA6"
      },
      "source": [
        "## Task 3: Render one episode played by the agent"
      ]
    },
    {
      "cell_type": "markdown",
      "metadata": {
        "id": "vx1awMr9lc_w"
      },
      "source": [
        "Plug your agent to the code below to obtain rendered result."
      ]
    },
    {
      "cell_type": "code",
      "execution_count": null,
      "metadata": {
        "id": "LYyavfbIa47D",
        "colab": {
          "base_uri": "https://localhost:8080/"
        },
        "outputId": "67c1fcf5-ba03-4ec9-df40-753832e94467"
      },
      "outputs": [
        {
          "output_type": "display_data",
          "data": {
            "text/plain": [
              "<IPython.core.display.HTML object>"
            ],
            "text/html": [
              "<video alt=\"test\" autoplay \n",
              "                loop controls style=\"height: 400px;\">\n",
              "                <source src=\"data:video/mp4;base64,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\" type=\"video/mp4\" />\n",
              "             </video>"
            ]
          },
          "metadata": {}
        }
      ],
      "source": [
        "env = RecordVideo(gym.make(\"CartPole-v1\"), \"./video\")\n",
        "observation = env.reset()\n",
        "current_state = discretizer(*env.reset())\n",
        "while True:\n",
        "    #your agent goes here\n",
        "    env.render()\n",
        "    #action = theta_omega_policy(observation)\n",
        "    #observation, reward, done, info = env.step(action) \n",
        "    #action = rand_policy_agent(observation)\n",
        "\n",
        "    action = policy(current_state)\n",
        "    obs, reward, done, _ = env.step(action)\n",
        "    #print(done)\n",
        "    if done: \n",
        "      break;\n",
        "    new_state = discretizer(*obs)\n",
        "    #lr = learning_rate(e)\n",
        "    #learnt_value = new_Q_value(reward , new_state)\n",
        "    #old_value = Q_table[current_state][action]\n",
        "    #Q_table[current_state][action] = (1-lr)*old_value + lr*learnt_value\n",
        "\n",
        "\n",
        "    current_state = new_state\n",
        "\n",
        "env.close()\n",
        "show_video()"
      ]
    },
    {
      "cell_type": "code",
      "execution_count": null,
      "metadata": {
        "id": "6JHx2srgzShG"
      },
      "outputs": [],
      "source": []
    }
  ],
  "metadata": {
    "colab": {
      "provenance": []
    },
    "kernelspec": {
      "display_name": "Python 3",
      "name": "python3"
    },
    "language_info": {
      "name": "python"
    }
  },
  "nbformat": 4,
  "nbformat_minor": 0
}